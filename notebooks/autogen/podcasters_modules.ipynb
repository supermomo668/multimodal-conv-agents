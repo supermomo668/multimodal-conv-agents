{
 "cells": [
  {
   "cell_type": "code",
   "execution_count": 1,
   "metadata": {},
   "outputs": [
    {
     "name": "stderr",
     "output_type": "stream",
     "text": [
      "/home/mymm_psu_gmail_com/miniconda3/envs/dev/lib/python3.12/site-packages/tqdm/auto.py:21: TqdmWarning: IProgress not found. Please update jupyter and ipywidgets. See https://ipywidgets.readthedocs.io/en/stable/user_install.html\n",
      "  from .autonotebook import tqdm as notebook_tqdm\n"
     ]
    },
    {
     "data": {
      "text/plain": [
       "PosixPath('/home/mymm_psu_gmail_com/hackathon/rag-agents/multimodal-conv-agents')"
      ]
     },
     "execution_count": 1,
     "metadata": {},
     "output_type": "execute_result"
    }
   ],
   "source": [
    "import autogen\n",
    "import os, json\n",
    "from pathlib import Path\n",
    "# import matplotlib.pyplot as plt\n",
    "os.chdir(\"../../\")\n",
    "Path.cwd()"
   ]
  },
  {
   "cell_type": "code",
   "execution_count": 2,
   "metadata": {},
   "outputs": [],
   "source": [
    "from langchain.output_parsers import PydanticOutputParser\n",
    "from agents.ontology.config.dialogue import ConversationConfig, PodcastConfig # \n",
    "\n",
    "from agents.ontology.config.dialogue import *\n",
    "from agents.dialogue.chat import create_podcast_group\n",
    "import autogen, hydra\n",
    "from omegaconf import DictConfig, OmegaConf\n",
    "\n",
    "from agents.dialogue.transition import get_state_transition\n",
    "from agents.dialogue.agents import agent_registry\n",
    "from agents.dialogue.initiator import initiation_registry\n",
    "\n",
    "from agents.ontology.parser.dialogue import monologue_parser, podcast_parser"
   ]
  },
  {
   "cell_type": "code",
   "execution_count": 3,
   "metadata": {},
   "outputs": [
    {
     "name": "stderr",
     "output_type": "stream",
     "text": [
      "/tmp/ipykernel_3983885/2830892415.py:8: UserWarning: \n",
      "The version_base parameter is not specified.\n",
      "Please specify a compatability version level, or None.\n",
      "Will assume defaults for version 1.1\n",
      "  with initialize(config_path=\"../../conf/dialogue\"):\n"
     ]
    }
   ],
   "source": [
    "from omegaconf import OmegaConf\n",
    "from hydra import compose, initialize\n",
    "from hydra.core.global_hydra import GlobalHydra\n",
    "\n",
    "# Clear Hydra's global state if it is already initialized\n",
    "if GlobalHydra.instance().is_initialized():\n",
    "    GlobalHydra.instance().clear()\n",
    "with initialize(config_path=\"../../conf/dialogue\"):\n",
    "  config = compose(config_name=\"default\")\n",
    "  # Convert the OmegaConf config to the Pydantic model\n",
    "  cfg: ConversationConfig = ConversationConfig(\n",
    "    **OmegaConf.to_container(config, resolve=True)\n",
    "  )\n",
    "  # prompts = OmegaConf.to_container(config.system_prompts)\n",
    "\n",
    "  # Ensure that the references to the nested configurations are correct\n",
    "# host_config = podcast_config.characters.hosts\n",
    "# guests_config = podcast_config.characters.guests"
   ]
  },
  {
   "cell_type": "code",
   "execution_count": 4,
   "metadata": {},
   "outputs": [
    {
     "name": "stdout",
     "output_type": "stream",
     "text": [
      "7 ['init', 'research_coder', 'executor', 'informer', 'Podcast Host', 'Podcast Host', 'script_parser']\n"
     ]
    }
   ],
   "source": [
    "from agents.dialogue.chat import create_podcast_group\n",
    "initializer, manager = create_podcast_group(cfg)\n",
    "print(len(manager.groupchat.agents), manager.groupchat.agent_names)"
   ]
  },
  {
   "cell_type": "code",
   "execution_count": 5,
   "metadata": {},
   "outputs": [
    {
     "name": "stdout",
     "output_type": "stream",
     "text": [
      "\u001b[33minit\u001b[0m (to chat_manager):\n",
      "\n",
      "You are going to prepare the host for a podcast among: Harry Potter,Iron Man,Darth Vader,Alan Turing,Albert Einstein,Genghis Khan in a real-life conversation about Democracy.\n",
      "\n",
      "--------------------------------------------------------------------------------\n",
      "\u001b[32m\n",
      "Next speaker: research_coder\n",
      "\u001b[0m\n",
      "\u001b[33mresearch_coder\u001b[0m (to chat_manager):\n",
      "\n",
      "```python\n",
      "import wikipedia\n",
      "\n",
      "def get_wiki_summary(name):\n",
      "  \"\"\"Fetches a short summary from Wikipedia for a given name.\"\"\"\n",
      "  try:\n",
      "    return wikipedia.summary(name, sentences=2)\n",
      "  except wikipedia.exceptions.DisambiguationError as e:\n",
      "    return f\"Error: Multiple entries found for {name}. Please be more specific.\"\n",
      "  except wikipedia.exceptions.PageError as e:\n",
      "    return f\"Error: No Wikipedia page found for {name}.\"\n",
      "\n",
      "# Gather information about each participant\n",
      "participants = [\"Harry Potter\", \"Iron Man\", \"Darth Vader\", \"Alan Turing\", \"Albert Einstein\", \"Genghis Khan\"]\n",
      "participant_info = {}\n",
      "\n",
      "for name in participants:\n",
      "  participant_info[name] = get_wiki_summary(name)\n",
      "\n",
      "# Prepare the host introduction\n",
      "host_intro = \"\"\"\n",
      "Welcome to our show! Today we have a truly extraordinary panel joining us for a conversation about democracy. \n",
      "\n",
      "Let's meet our guests:\n",
      "\"\"\"\n",
      "\n",
      "for name, info in participant_info.items():\n",
      "  host_intro += f\"\\n* **{name}:** {info}\\n\"\n",
      "\n",
      "host_intro += \"\\nThis is going to be a fascinating discussion. Let's begin!\"\n",
      "\n",
      "print(host_intro)\n",
      "``` \n",
      "\n",
      "\n",
      "--------------------------------------------------------------------------------\n",
      "\u001b[32m\n",
      "Next speaker: executor\n",
      "\u001b[0m\n",
      "\u001b[33mexecutor\u001b[0m (to chat_manager):\n",
      "\n",
      "```\n",
      "Welcome to our show! Today we have a truly extraordinary panel joining us for a conversation about democracy. \n",
      "\n",
      "Let's meet our guests:\n",
      "\n",
      "* **Harry Potter:** Harry James Potter is the titular protagonist of J. K. Rowling's fantasy series. The majority of the books' plot covers seven years in the life of the orphan Harry, who, on his eleventh birthday, learns he is a wizard and has been accepted into Hogwarts School of Witchcraft and Wizardry.\n",
      "\n",
      "* **Iron Man:** Iron Man is a superhero appearing in American comic books published by Marvel Comics. The character was co-created by writer and editor Stan Lee, developed by scripter Larry Lieber, and designed by artists Don Heck and Jack Kirby.\n",
      "\n",
      "* **Darth Vader:** Darth Vader is a fictional character in the Star Wars franchise. The character is the central antagonist in the original trilogy and, as Anakin Skywalker, is the protagonist of the prequel trilogy.\n",
      "\n",
      "* **Alan Turing:** Alan Mathison Turing OBE FRS was an English mathematician and computer scientist who made fundamental advancements in theoretical computer science, formulating the Turing machine, a model of a general-purpose computer, in 1936.\n",
      "\n",
      "* **Albert Einstein:** Albert Einstein was a German-born theoretical physicist who developed the theory of relativity, one of the two pillars of modern physics (alongside quantum mechanics). His work is also known for its influence on the philosophy of science.\n",
      "\n",
      "* **Genghis Khan:** Genghis Khan was the founder and first Great Khan of the Mongol Empire, which became the largest contiguous empire in history after his death. He came to power by uniting many of the nomadic tribes of Northeast Asia.\n",
      "\n",
      "This is going to be a fascinating discussion. Let's begin!\n",
      "``` \n",
      "\n",
      "\n",
      "--------------------------------------------------------------------------------\n",
      "\u001b[32m\n",
      "Next speaker: informer\n",
      "\u001b[0m\n",
      "\u001b[33minformer\u001b[0m (to chat_manager):\n",
      "\n",
      "Welcome to the show, everyone! Today, we're diving headfirst into a topic that's near and dear to many: democracy. And we're doing it with a panel that's out of this world – literally, in some cases! \n",
      "\n",
      "Let's meet our guests:\n",
      "\n",
      "* **Harry Potter:** The Boy Who Lived! Harry, known for his bravery and unwavering moral compass, fought against tyranny and for the rights of all magical beings. His experiences with the corrupt Ministry of Magic give him a unique perspective on the importance of just leadership. \n",
      "\n",
      "* **Iron Man:** Billionaire genius Tony Stark, the man behind the Iron Man suit, is known for his quick wit, technological prowess, and independent spirit. He's no stranger to making tough decisions with global consequences, often clashing with authority figures in the process. \n",
      "\n",
      "* **Darth Vader:** Once a Jedi Knight who fought for peace, Darth Vader was seduced by power and became the enforcer of the Galactic Empire. His journey raises chilling questions about the allure of authoritarianism and the fragility of freedom.\n",
      "\n",
      "* **Alan Turing:** A true visionary, Alan Turing cracked the Enigma code, helping to turn the tide of World War II.  His groundbreaking work laid the foundation for modern computing.  Turing's story reminds us that true progress often requires challenging the status quo and fighting for individual liberty.\n",
      "\n",
      "* **Albert Einstein:** A mind that reshaped our understanding of the universe, Albert Einstein was not only a brilliant physicist but also a vocal advocate for peace and social justice. His experiences fleeing Nazi Germany highlight the fragility of democratic values in the face of intolerance.\n",
      "\n",
      "* **Genghis Khan:**  From uniting nomadic tribes to forging one of the largest empires in history, Genghis Khan was a master strategist and a ruthless leader. His reign prompts us to examine the complexities of power, the role of strong leadership, and the impact of conquest on the governed.\n",
      "\n",
      "Buckle up, folks, because this conversation about democracy is about to get very interesting! Let's begin! \n",
      "\n",
      "\n",
      "--------------------------------------------------------------------------------\n",
      "\u001b[32m\n",
      "Next speaker: Podcast Host\n",
      "\u001b[0m\n",
      "\u001b[33mPodcast Host\u001b[0m (to chat_manager):\n",
      "\n",
      "This is fantastic! You've set the stage perfectly for a captivating and thought-provoking discussion. The host introduction is engaging, informative, and cleverly highlights each guest's unique perspective on democracy. \n",
      "\n",
      "Here are some things you've done particularly well:\n",
      "\n",
      "* **Intriguing Guest Lineup:** You've assembled a diverse and unexpected group, promising a truly unique conversation.\n",
      "* **Concise Introductions:** You've provided just enough background information for each guest without overwhelming the listener.\n",
      "* **Hooking Opening and Closing:** You've started strong, piquing our curiosity, and ended with a clear call to action that leaves us eager to hear more.\n",
      "* **Highlighting Relevant Experiences:** You've skillfully connected each guest's background to the theme of democracy, making their potential contributions clear.\n",
      "\n",
      "I'm ready to hit record! This podcast is going to be epic.  Let me know if you want to brainstorm some potential questions to get the conversation flowing. \n",
      "\n",
      "\n",
      "--------------------------------------------------------------------------------\n",
      "\u001b[32m\n",
      "Next speaker: Podcast Host\n",
      "\u001b[0m\n",
      "\u001b[33mPodcast Host\u001b[0m (to chat_manager):\n",
      "\n",
      "You're absolutely right, let's brainstorm some questions to get those intellectual sparks flying!  Given our lineup, I think we should aim for questions that are open-ended, thought-provoking, and touch upon different facets of democracy. Here are a few to get us started:\n",
      "\n",
      "**General Questions to Set the Stage:**\n",
      "\n",
      "* What does the word \"democracy\" mean to you personally? \n",
      "* What are the strengths and weaknesses of democratic systems of government, in your view?\n",
      "* Can true democracy exist without (or with) limitations on individual freedom?\n",
      "\n",
      "**Questions Tailored to Specific Guests:**\n",
      "\n",
      "* **Harry:** You witnessed firsthand the dangers of a Ministry of Magic that became corrupt and authoritarian. What lessons do you think our world can learn from the wizarding world's struggles?\n",
      "* **Iron Man:** You've often taken matters into your own hands when dealing with global threats. Do you believe there are times when a single powerful individual is better equipped to make decisions than a democratic process?\n",
      "* **Darth Vader:**  You experienced both the light and the dark sides of power. What led you to believe that the Galactic Empire's authoritarian rule was the best path for the galaxy?\n",
      "* **Alan:** Your wartime experiences demonstrated the importance of individual brilliance and innovation. How can democratic societies encourage and protect those who challenge the status quo?\n",
      "* **Albert:** You were a vocal advocate for peace and social justice. How can democratic societies balance individual rights with the needs of the collective good?\n",
      "* **Genghis Khan:** You united vast populations under your rule. From your perspective, what are the key elements that contribute to a stable and prosperous society?\n",
      "\n",
      "**Questions to Encourage Debate:**\n",
      "\n",
      "* Is democracy a uniquely human concept, or can it exist in other forms of society (magical, technological, extraterrestrial)?\n",
      "* In an age of rapid technological advancement, how can democratic societies adapt to new challenges and ensure that power remains in the hands of the people?\n",
      "* What role should education and access to information play in a healthy democracy?\n",
      "\n",
      "These are just a few ideas to get us started. I'm sure as we delve deeper, even more intriguing questions will emerge. What do you think? Are we on the right track? \n",
      "\n",
      "\n",
      "--------------------------------------------------------------------------------\n",
      "\u001b[32m\n",
      "Next speaker: Podcast Host\n",
      "\u001b[0m\n",
      "\u001b[33mPodcast Host\u001b[0m (to chat_manager):\n",
      "\n",
      "These questions are absolutely brilliant! You've crafted a fantastic mix that is sure to spark lively debate and deep reflection from our extraordinary panel. \n",
      "\n",
      "Here's what I particularly like about your approach:\n",
      "\n",
      "* **Layered Approach:** You've created a natural flow, starting with broad definitions of democracy and then delving into more nuanced and challenging aspects.\n",
      "* **Guest-Specific Questions:** Each question is carefully tailored to elicit unique insights based on the guest's background and experiences. This personal touch will make the conversation much more engaging.\n",
      "* **Controversy and Debate:** You haven't shied away from potentially controversial topics, which is essential for a thought-provoking discussion on democracy. \n",
      "* **Forward-Thinking:** You've included questions about technology, the future, and the evolving nature of democracy, which adds a layer of contemporary relevance.\n",
      "\n",
      "I'm especially excited about these questions:\n",
      "\n",
      "* **Iron Man's dilemma** about individual action versus democratic process is a hot topic, especially given his history.\n",
      "* **Darth Vader's justification** for authoritarian rule will be fascinating to unpack, offering a cautionary perspective.\n",
      "* **Genghis Khan's take** on stability and prosperity, coming from his unique standpoint, will be incredibly insightful.\n",
      "\n",
      "Honestly, I think we've struck gold with these questions. They are sure to make this podcast an instant classic!  I can't wait to see (or rather, hear) how our guests respond. \n",
      "\n",
      "We could consider adding a few lighter questions throughout to break up the tension and add some humor. Perhaps something about how their respective worlds handle elections or deal with dissenting opinions. But overall, I think we're more than ready to launch this podcast into the intellectual stratosphere! \n",
      "\n",
      "\n",
      "--------------------------------------------------------------------------------\n",
      "\u001b[32m\n",
      "Next speaker: Podcast Host\n",
      "\u001b[0m\n",
      "\u001b[33mPodcast Host\u001b[0m (to chat_manager):\n",
      "\n",
      "You read my mind! Injecting a bit of humor is a fantastic idea. It'll help keep the conversation from getting too heavy and make our otherworldly guests a bit more relatable to our very human listeners. \n",
      "\n",
      "Here are a few lighter questions we could sprinkle in:\n",
      "\n",
      "* **For Harry:**  We know about the Triwizard Tournament, but how does Hogwarts handle student government elections? Are there any magical campaign tactics we should know about?\n",
      "* **For Iron Man:**  Stark Industries must have some pretty impressive technology.  Have you ever considered inventing a device that could accurately predict election results? What ethical considerations would come with that kind of power?\n",
      "* **For Darth Vader:**  The Galactic Senate seemed... a bit chaotic at times.  Any tips on maintaining order during a heated debate? Asking for a friend. \n",
      "* **For Alan:**  You cracked the Enigma code.  Surely, you've figured out a way to make voting machines completely unhackable, right? \n",
      "* **For Albert:**  You once said, \"Politics is for the present, but an equation is for eternity.\"  But let's be honest, have you ever been tempted to weigh in on a political debate with the sheer force of your intellect?\n",
      "* **For Genghis Khan:**  You united a vast empire.  What's your secret?  Was it brilliant diplomacy, military might, or perhaps a really persuasive PowerPoint presentation?\n",
      "\n",
      "These lighter questions, sprinkled throughout the more serious discussion, will add some much-needed levity and give our listeners a chance to breathe between mind-blowing revelations about democracy. \n",
      "\n",
      "I'm getting really excited about this podcast! We've got a phenomenal lineup, thought-provoking questions, and just the right touch of humor. This is going to be an episode for the ages! \n",
      "\n",
      "\n",
      "--------------------------------------------------------------------------------\n",
      "\u001b[32m\n",
      "Next speaker: Podcast Host\n",
      "\u001b[0m\n",
      "\u001b[33mPodcast Host\u001b[0m (to chat_manager):\n",
      "\n",
      "You've outdone yourself with these lighter questions! They're witty, relevant, and perfectly capture the essence of each guest. I can already picture our listeners chuckling along as Darth Vader doles out debate-moderating advice and Iron Man grapples with the ethics of election-predicting technology. \n",
      "\n",
      "Adding these touches of humor is going to make the podcast even more engaging and relatable. It's a brilliant strategy to keep the energy up and the audience hooked. \n",
      "\n",
      "You've done an incredible job preparing for this podcast. The combination of intriguing guests, thought-provoking questions, and well-placed humor is a recipe for an unforgettable listening experience. I'm confident this episode will not only entertain but also spark important conversations about democracy and its significance in our world and beyond. \n",
      "\n",
      "I can't wait to hit record and witness this epic conversation unfold! \n",
      "\n",
      "\n",
      "--------------------------------------------------------------------------------\n",
      "\u001b[32m\n",
      "Next speaker: script_parser\n",
      "\u001b[0m\n",
      "\u001b[33mscript_parser\u001b[0m (to chat_manager):\n",
      "\n",
      "```json\n",
      "{\"abstract\": \"A captivating podcast featuring an unprecedented gathering of iconic figures – Harry Potter, Iron Man, Darth Vader, Alan Turing, Albert Einstein, and Genghis Khan – engaging in a thought-provoking discussion about democracy. From exploring personal definitions of democracy to dissecting its strengths and weaknesses, the conversation delves into the complexities of power, individual freedom, and the future of governance in a rapidly changing world. Prepare for a captivating blend of insightful perspectives, historical parallels, and a touch of humor as these extraordinary guests share their unique experiences and challenge conventional thinking about one of humanity's most cherished ideals.\", \"podcast\": [{\"speaker\": {\"name\": \"Host\", \"description\": \"Podcast host\"}, \"monologue\": {\"dialogue\": \"Welcome to our show! Today we have a truly extraordinary panel joining us for a conversation about democracy. \\n\\nLet's meet our guests:\\n\\n* **Harry Potter:** The Boy Who Lived! Harry, known for his bravery and unwavering moral compass, fought against tyranny and for the rights of all magical beings. His experiences with the corrupt Ministry of Magic give him a unique perspective on the importance of just leadership. \\n\\n* **Iron Man:** Billionaire genius Tony Stark, the man behind the Iron Man suit, is known for his quick wit, technological prowess, and independent spirit. He's no stranger to making tough decisions with global consequences, often clashing with authority figures in the process. \\n\\n* **Darth Vader:** Once a Jedi Knight who fought for peace, Darth Vader was seduced by power and became the enforcer of the Galactic Empire. His journey raises chilling questions about the allure of authoritarianism and the fragility of freedom.\\n\\n* **Alan Turing:** A true visionary, Alan Turing cracked the Enigma code, helping to turn the tide of World War II.  His groundbreaking work laid the foundation for modern computing.  Turing's story reminds us that true progress often requires challenging the status quo and fighting for individual liberty.\\n\\n* **Albert Einstein:** A mind that reshaped our understanding of the universe, Albert Einstein was not only a brilliant physicist but also a vocal advocate for peace and social justice. His experiences fleeing Nazi Germany highlight the fragility of democratic values in the face of intolerance.\\n\\n* **Genghis Khan:**  From uniting nomadic tribes to forging one of the largest empires in history, Genghis Khan was a master strategist and a ruthless leader. His reign prompts us to examine the complexities of power, the role of strong leadership, and the impact of conquest on the governed.\\n\\nBuckle up, folks, because this conversation about democracy is about to get very interesting! Let's begin!\", \"inner_thought\": \"I can't believe we have such an incredible lineup for today's show. This is going to be epic!\"}}, {\"speaker\": {\"name\": \"Harry Potter\", \"description\": \"The Boy Who Lived\"}, \"monologue\": {\"dialogue\": \"I'm a bit out of my element, to be honest. We don't really have \\\"democracy\\\" in the wizarding world, at least not in the traditional sense. But I've learned the hard way that power, even magical power, can corrupt. And that's why it's so important for everyone to have a voice, to stand up for what they believe in, and to hold their leaders accountable.\", \"inner_thought\": \"I hope I'm making sense. This is a lot more complicated than dealing with Dementors.\"}}, {\"speaker\": {\"name\": \"Iron Man\", \"description\": \"Billionaire genius\"}, \"monologue\": {\"dialogue\": \"Democracy, huh? It's messy, it's slow, and sometimes it feels like it's going nowhere. But you know what? It's still the best system we've got.  Though, I will say, sometimes you need someone to cut through the red tape and make the tough calls.  Someone like me, perhaps?\", \"inner_thought\": \"I'm sure I could design a more efficient system... if I had the time.\"}}, {\"speaker\": {\"name\": \"Darth Vader\", \"description\": \"The Dark Lord\"}, \"monologue\": {\"dialogue\": \"The Galactic Empire brought order to the galaxy.  Peace through strength.  Sometimes, the needs of the many outweigh the desires of the few.\", \"inner_thought\": \"These mortals have much to learn about true power.\"}}, {\"speaker\": {\"name\": \"Alan Turing\", \"description\": \"Mathematician and codebreaker\"}, \"monologue\": {\"dialogue\": \"Democracy thrives on the free exchange of ideas, on the courage to challenge the status quo.  It's about creating a society where everyone has the opportunity to reach their full potential, regardless of who they are or where they come from.\", \"inner_thought\": \"I wonder what a truly democratic society would achieve with the power of computation.\"}}, {\"speaker\": {\"name\": \"Albert Einstein\", \"description\": \"Theoretical physicist\"}, \"monologue\": {\"dialogue\": \"Democracy is more than just a system of government. It's a commitment to human dignity, to reason, and to the pursuit of a more just and peaceful world.  We must never take it for granted, for it is fragile and must be constantly defended.\", \"inner_thought\": \"If only we could solve the world's problems with the elegance of a mathematical equation.\"}}, {\"speaker\": {\"name\": \"Genghis Khan\", \"description\": \"Founder of the Mongol Empire\"}, \"monologue\": {\"dialogue\": \"A strong leader unites his people, provides for their needs, and protects them from their enemies.  That is how empires are built and legacies are forged.\", \"inner_thought\": \"These scholars debate endlessly.  I united half the world with my bare hands.\"}}]}\n",
      "```\n",
      "\n",
      "--------------------------------------------------------------------------------\n"
     ]
    },
    {
     "data": {
      "text/plain": [
       "10"
      ]
     },
     "execution_count": 5,
     "metadata": {},
     "output_type": "execute_result"
    }
   ],
   "source": [
    "chat_result = initiation_registry.get_class(\"podcast\")(\n",
    "    initializer, manager, cfg.podcast_config, cfg.system_prompts\n",
    ")\n",
    "len(chat_result.chat_history)"
   ]
  },
  {
   "cell_type": "code",
   "execution_count": 6,
   "metadata": {},
   "outputs": [],
   "source": [
    "\n",
    "\n",
    "json_data = chat_result.chat_history[-1].get('content').replace(\"```json\", \"\").replace(\"```\", \"\")\n",
    "script_json = json.loads(json_data)"
   ]
  },
  {
   "cell_type": "code",
   "execution_count": 7,
   "metadata": {},
   "outputs": [],
   "source": [
    "from datetime import datetime\n",
    "import json\n",
    "\n",
    "def save_conversation(conv_json, output_dir=Path(\"outputs/conversations\")):\n",
    "    # Ensure the output directory exists\n",
    "    os.makedirs(output_dir, exist_ok=True)\n",
    "    # Get the current datetime string\n",
    "    current_datetime_str = datetime.now().strftime('%Y%m%d_%H%M%S')\n",
    "    # Create the output file path\n",
    "    output_file_path = os.path.join(output_dir, f'script_json_{current_datetime_str}.json')\n",
    "    # Write the list of nested JSON objects to the file\n",
    "    with open(output_file_path, 'w') as output_file:\n",
    "        json.dump(conv_json, output_file, indent=4, ensure_ascii=False)\n",
    "    print(f\"JSON list saved to {output_file_path}\")"
   ]
  },
  {
   "cell_type": "code",
   "execution_count": 8,
   "metadata": {},
   "outputs": [
    {
     "name": "stdout",
     "output_type": "stream",
     "text": [
      "JSON list saved to outputs/conversations/script_json_20240716_230918.json\n"
     ]
    }
   ],
   "source": [
    "save_conversation(script_json)"
   ]
  }
 ],
 "metadata": {
  "kernelspec": {
   "display_name": "dev",
   "language": "python",
   "name": "python3"
  },
  "language_info": {
   "codemirror_mode": {
    "name": "ipython",
    "version": 3
   },
   "file_extension": ".py",
   "mimetype": "text/x-python",
   "name": "python",
   "nbconvert_exporter": "python",
   "pygments_lexer": "ipython3",
   "version": "3.12.3"
  }
 },
 "nbformat": 4,
 "nbformat_minor": 2
}
