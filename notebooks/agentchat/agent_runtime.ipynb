{
 "cells": [
  {
   "cell_type": "code",
   "execution_count": null,
   "metadata": {
    "vscode": {
     "languageId": "plaintext"
    }
   },
   "outputs": [],
   "source": [
    "from dataclasses import dataclass\n",
    "\n",
    "from autogen_core import AgentId, BaseAgent, MessageContext\n",
    "\n",
    "\n",
    "@dataclass\n",
    "class MyMessageType:\n",
    "    content: str\n",
    "\n",
    "\n",
    "class MyAgent(BaseAgent):\n",
    "    def __init__(self) -> None:\n",
    "        super().__init__(\"MyAgent\")\n",
    "\n",
    "    async def on_message_impl(self, message: MyMessageType, ctx: MessageContext) -> None:\n",
    "        print(f\"Received message: {message.content}\")  # type: ignore"
   ]
  }
 ],
 "metadata": {
  "language_info": {
   "name": "python"
  }
 },
 "nbformat": 4,
 "nbformat_minor": 2
}
