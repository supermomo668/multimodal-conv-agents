{
 "cells": [
  {
   "cell_type": "code",
   "execution_count": 3,
   "metadata": {},
   "outputs": [
    {
     "ename": "ModuleNotFoundError",
     "evalue": "No module named 'superlinked'",
     "output_type": "error",
     "traceback": [
      "\u001b[0;31m---------------------------------------------------------------------------\u001b[0m",
      "\u001b[0;31mModuleNotFoundError\u001b[0m                       Traceback (most recent call last)",
      "Cell \u001b[0;32mIn[3], line 1\u001b[0m\n\u001b[0;32m----> 1\u001b[0m \u001b[38;5;28;01mfrom\u001b[39;00m \u001b[38;5;21;01msuperlinked\u001b[39;00m\u001b[38;5;21;01m.\u001b[39;00m\u001b[38;5;21;01mframework\u001b[39;00m\u001b[38;5;21;01m.\u001b[39;00m\u001b[38;5;21;01mcommon\u001b[39;00m\u001b[38;5;21;01m.\u001b[39;00m\u001b[38;5;21;01mschema\u001b[39;00m\u001b[38;5;21;01m.\u001b[39;00m\u001b[38;5;21;01mschema\u001b[39;00m \u001b[38;5;28;01mimport\u001b[39;00m schema\n\u001b[1;32m      2\u001b[0m \u001b[38;5;28;01mfrom\u001b[39;00m \u001b[38;5;21;01msuperlinked\u001b[39;00m\u001b[38;5;21;01m.\u001b[39;00m\u001b[38;5;21;01mframework\u001b[39;00m\u001b[38;5;21;01m.\u001b[39;00m\u001b[38;5;21;01mcommon\u001b[39;00m\u001b[38;5;21;01m.\u001b[39;00m\u001b[38;5;21;01mschema\u001b[39;00m\u001b[38;5;21;01m.\u001b[39;00m\u001b[38;5;21;01mschema_object\u001b[39;00m \u001b[38;5;28;01mimport\u001b[39;00m String\n\u001b[1;32m      3\u001b[0m \u001b[38;5;28;01mfrom\u001b[39;00m \u001b[38;5;21;01msuperlinked\u001b[39;00m\u001b[38;5;21;01m.\u001b[39;00m\u001b[38;5;21;01mframework\u001b[39;00m\u001b[38;5;21;01m.\u001b[39;00m\u001b[38;5;21;01mcommon\u001b[39;00m\u001b[38;5;21;01m.\u001b[39;00m\u001b[38;5;21;01mschema\u001b[39;00m\u001b[38;5;21;01m.\u001b[39;00m\u001b[38;5;21;01mid_schema_object\u001b[39;00m \u001b[38;5;28;01mimport\u001b[39;00m IdField\n",
      "\u001b[0;31mModuleNotFoundError\u001b[0m: No module named 'superlinked'"
     ]
    }
   ],
   "source": [
    "from superlinked.framework.common.schema.schema import schema\n",
    "from superlinked.framework.common.schema.schema_object import String\n",
    "from superlinked.framework.common.schema.id_schema_object import IdField\n",
    "from superlinked.framework.dsl.space.text_similarity_space import TextSimilaritySpace\n",
    "from superlinked.framework.dsl.index.index import Index\n",
    "from superlinked.framework.dsl.query.param import Param\n",
    "from superlinked.framework.dsl.query.query import Query\n",
    "from superlinked.framework.dsl.source.in_memory_source import InMemorySource\n",
    "from superlinked.framework.dsl.executor.in_memory.in_memory_executor import InMemoryExecutor"
   ]
  },
  {
   "cell_type": "code",
   "execution_count": null,
   "metadata": {},
   "outputs": [],
   "source": [
    "@schema # Describe your schemas.\n",
    "class Document:\n",
    "    id: IdField  # Each schema should have exactly one `IdField`.\n",
    "    body: String # Use `String` for text fields.\n",
    "\n",
    "document = Document()\n",
    "\n",
    "relevance_space = TextSimilaritySpace(text=document.body, model=\"sentence-transformers/all-mpnet-base-v2\") # Select your semantic embedding model.\n",
    "document_index = Index([relevance_space]) # Combine your spaces to a queryable index.\n",
    "\n",
    "query = Query(document_index).find(document).similar(relevance_space.text, Param(\"query_text\")) # Define your query with dynamic parameters.\n",
    "\n",
    "source: InMemorySource = InMemorySource(document) # Connect a data source to your schema.\n",
    "\n",
    "executor = InMemoryExecutor(sources=[source], indices=[document_index]) # Tie it all together to run your configuration.\n",
    "app = executor.run()\n",
    "\n",
    "source.put([{\"id\": \"happy_dog\", \"body\": \"That is a happy dog\"}])\n",
    "source.put([{\"id\": \"happy_person\", \"body\": \"That is a very happy person\"}])\n",
    "source.put([{\"id\": \"sunny_day\", \"body\": \"Today is a sunny day\"}])\n",
    "\n",
    "print(app.query(query, query_text=\"Who is a positive friend?\")) # Run your query."
   ]
  }
 ],
 "metadata": {
  "kernelspec": {
   "display_name": "dev",
   "language": "python",
   "name": "python3"
  },
  "language_info": {
   "codemirror_mode": {
    "name": "ipython",
    "version": 3
   },
   "file_extension": ".py",
   "mimetype": "text/x-python",
   "name": "python",
   "nbconvert_exporter": "python",
   "pygments_lexer": "ipython3",
   "version": "3.12.3"
  }
 },
 "nbformat": 4,
 "nbformat_minor": 2
}
