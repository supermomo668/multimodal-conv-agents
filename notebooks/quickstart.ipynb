{
 "cells": [
  {
   "cell_type": "code",
   "execution_count": 1,
   "metadata": {},
   "outputs": [
    {
     "data": {
      "text/plain": [
       "PosixPath('/home/mymm_psu_gmail_com/hackathon/rag-agents/multimodal-json')"
      ]
     },
     "execution_count": 1,
     "metadata": {},
     "output_type": "execute_result"
    }
   ],
   "source": [
    "from pathlib import Path\n",
    "import os\n",
    "os.chdir(\"../\")\n",
    "Path.cwd()"
   ]
  },
  {
   "cell_type": "code",
   "execution_count": 2,
   "metadata": {},
   "outputs": [
    {
     "ename": "NameError",
     "evalue": "name 'GPTV_EVAL_QUERY_PROMPTS' is not defined",
     "output_type": "error",
     "traceback": [
      "\u001b[0;31m---------------------------------------------------------------------------\u001b[0m",
      "\u001b[0;31mNameError\u001b[0m                                 Traceback (most recent call last)",
      "Cell \u001b[0;32mIn[2], line 1\u001b[0m\n\u001b[0;32m----> 1\u001b[0m \u001b[38;5;28;01mfrom\u001b[39;00m \u001b[38;5;21;01magents\u001b[39;00m\u001b[38;5;21;01m.\u001b[39;00m\u001b[38;5;21;01mvision\u001b[39;00m\u001b[38;5;21;01m.\u001b[39;00m\u001b[38;5;21;01mchains\u001b[39;00m \u001b[38;5;28;01mimport\u001b[39;00m vqa_json_chain\n",
      "File \u001b[0;32m~/hackathon/rag-agents/multimodal-json/agents/vision/chains.py:12\u001b[0m\n\u001b[1;32m      9\u001b[0m \u001b[38;5;28;01mimport\u001b[39;00m \u001b[38;5;21;01mbase64\u001b[39;00m\n\u001b[1;32m     10\u001b[0m \u001b[38;5;28;01mfrom\u001b[39;00m \u001b[38;5;21;01mutils\u001b[39;00m\u001b[38;5;21;01m.\u001b[39;00m\u001b[38;5;21;01mportkey\u001b[39;00m \u001b[38;5;28;01mimport\u001b[39;00m _init_langchain_portkey_args\n\u001b[0;32m---> 12\u001b[0m \u001b[38;5;28;01mfrom\u001b[39;00m \u001b[38;5;21;01m.\u001b[39;00m\u001b[38;5;21;01mprompts\u001b[39;00m \u001b[38;5;28;01mimport\u001b[39;00m GPTV_EVAL_QUERY_PROMPTS, EVALUATOR_SYSTEM_PROMPT\n\u001b[1;32m     13\u001b[0m \u001b[38;5;28;01mfrom\u001b[39;00m \u001b[38;5;21;01mutils\u001b[39;00m \u001b[38;5;28;01mimport\u001b[39;00m handle_image_b64\n\u001b[1;32m     14\u001b[0m \u001b[38;5;28;01mfrom\u001b[39;00m \u001b[38;5;21;01magents\u001b[39;00m\u001b[38;5;21;01m.\u001b[39;00m\u001b[38;5;21;01montology\u001b[39;00m\u001b[38;5;21;01m.\u001b[39;00m\u001b[38;5;21;01mvqa\u001b[39;00m \u001b[38;5;28;01mimport\u001b[39;00m vqa_json_chain_config, vqa_chain_input\n",
      "File \u001b[0;32m~/hackathon/rag-agents/multimodal-json/agents/vision/prompts.py:19\u001b[0m\n\u001b[1;32m      8\u001b[0m TASK_PROMPT \u001b[38;5;241m=\u001b[39m \u001b[38;5;124m\"\u001b[39m\u001b[38;5;124mThe task is web navigation.\u001b[39m\u001b[38;5;124m\"\u001b[39m\n\u001b[1;32m     10\u001b[0m QUERY_PROMPTS \u001b[38;5;241m=\u001b[39m {\n\u001b[1;32m     11\u001b[0m     \u001b[38;5;124m\"\u001b[39m\u001b[38;5;124mDEFAULT\u001b[39m\u001b[38;5;124m\"\u001b[39m: \u001b[38;5;124m\"\u001b[39m\u001b[38;5;124mUse any of the given information, the screenshot, actions that the user may still need to take and any additional indicators of progress towards the task completion. Provide the best possible answer regardless of whether all the information is available.\u001b[39m\u001b[38;5;124m\"\u001b[39m,\n\u001b[1;32m     12\u001b[0m     \u001b[38;5;66;03m#\u001b[39;00m\n\u001b[0;32m   (...)\u001b[0m\n\u001b[1;32m     15\u001b[0m     \u001b[38;5;124m\"\u001b[39m\u001b[38;5;124mmultion_trajectory-opentable\u001b[39m\u001b[38;5;124m\"\u001b[39m: \u001b[38;5;124m\"\u001b[39m\u001b[38;5;124mThe user is navigating on the OpenTable website to complete a restaurant reservation. The context of the task, the user\u001b[39m\u001b[38;5;124m'\u001b[39m\u001b[38;5;124ms web navigation query, the screenshot and html DOM will be given in the following. Provide the best possible evaluation given information, if available, by comparing the user query with the current website context. Leave blank on information not available.\u001b[39m\u001b[38;5;130;01m\\n\u001b[39;00m\u001b[38;5;124mContext of the task:\u001b[39m\u001b[38;5;132;01m{goal}\u001b[39;00m\u001b[38;5;130;01m\\n\u001b[39;00m\u001b[38;5;124mThe user\u001b[39m\u001b[38;5;124m'\u001b[39m\u001b[38;5;124ms query is: \u001b[39m\u001b[38;5;132;01m{query}\u001b[39;00m\u001b[38;5;124m. The website has the following text: \u001b[39m\u001b[38;5;132;01m{dom}\u001b[39;00m\u001b[38;5;124m.\u001b[39m\u001b[38;5;124m\"\u001b[39m,\n\u001b[1;32m     16\u001b[0m }\n\u001b[1;32m     18\u001b[0m GPTV_EVAL_QUERY_PROMPTS \u001b[38;5;241m=\u001b[39m {\n\u001b[0;32m---> 19\u001b[0m     k: EVALUATOR_SYSTEM_PROMPT\u001b[38;5;241m+\u001b[39m TASK_SYSTEM_PROMPT \u001b[38;5;241m+\u001b[39m v \u001b[38;5;28;01mfor\u001b[39;00m k,v \u001b[38;5;129;01min\u001b[39;00m \u001b[43mGPTV_EVAL_QUERY_PROMPTS\u001b[49m\u001b[38;5;241m.\u001b[39mitems()\n\u001b[1;32m     20\u001b[0m }\n\u001b[1;32m     22\u001b[0m \u001b[38;5;66;03m# update default as needed\u001b[39;00m\n\u001b[1;32m     23\u001b[0m GPTV_EVAL_QUERY_PROMPTS\u001b[38;5;241m.\u001b[39mupdate({\n\u001b[1;32m     24\u001b[0m     \u001b[38;5;124m'\u001b[39m\u001b[38;5;124mDEFAULT\u001b[39m\u001b[38;5;124m'\u001b[39m: GPTV_EVAL_QUERY_PROMPTS\u001b[38;5;241m.\u001b[39mget(\u001b[38;5;124m'\u001b[39m\u001b[38;5;124mDEFAULT\u001b[39m\u001b[38;5;124m'\u001b[39m)\n\u001b[1;32m     25\u001b[0m })\n",
      "\u001b[0;31mNameError\u001b[0m: name 'GPTV_EVAL_QUERY_PROMPTS' is not defined"
     ]
    }
   ],
   "source": [
    "from agents.vision.chains import vqa_json_chain"
   ]
  },
  {
   "cell_type": "code",
   "execution_count": null,
   "metadata": {},
   "outputs": [],
   "source": []
  }
 ],
 "metadata": {
  "kernelspec": {
   "display_name": "dev",
   "language": "python",
   "name": "python3"
  },
  "language_info": {
   "codemirror_mode": {
    "name": "ipython",
    "version": 3
   },
   "file_extension": ".py",
   "mimetype": "text/x-python",
   "name": "python",
   "nbconvert_exporter": "python",
   "pygments_lexer": "ipython3",
   "version": "3.12.3"
  }
 },
 "nbformat": 4,
 "nbformat_minor": 2
}
