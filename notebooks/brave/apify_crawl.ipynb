{
 "cells": [
  {
   "cell_type": "code",
   "execution_count": 1,
   "metadata": {},
   "outputs": [
    {
     "data": {
      "text/plain": [
       "True"
      ]
     },
     "execution_count": 1,
     "metadata": {},
     "output_type": "execute_result"
    }
   ],
   "source": [
    "import os, dotenv\n",
    "os.chdir(\"../../\")\n",
    "dotenv.load_dotenv('.env', override=True)"
   ]
  },
  {
   "cell_type": "code",
   "execution_count": 2,
   "metadata": {},
   "outputs": [],
   "source": [
    "# APIFY\n",
    "from langchain.indexes import VectorstoreIndexCreator\n",
    "from langchain_community.utilities import ApifyWrapper\n",
    "from langchain_core.document_loaders.base import Document\n",
    "from langchain_openai import OpenAI\n",
    "from langchain_openai.embeddings import OpenAIEmbeddings"
   ]
  },
  {
   "cell_type": "code",
   "execution_count": 3,
   "metadata": {},
   "outputs": [],
   "source": [
    "def apify_crawler(start_url, actor_id=\"apify/web-scraper\"):\n",
    "  apify = ApifyWrapper()\n",
    "  loader = apify.call_actor(\n",
    "      actor_id=\"apify/website-content-crawler\",\n",
    "      run_input={\n",
    "        \"startUrls\": [{\n",
    "          \"url\": start_url\n",
    "          }], \n",
    "        \"maxCrawlPages\": 10, \n",
    "        \"crawlerType\": \"cheerio\"\n",
    "      },\n",
    "      dataset_mapping_function=lambda item: Document(\n",
    "          page_content=item[\"text\"] or \"\", \n",
    "          metadata={\"source\": item[\"url\"]}\n",
    "      ),\n",
    "  )"
   ]
  }
 ],
 "metadata": {
  "kernelspec": {
   "display_name": "dev",
   "language": "python",
   "name": "python3"
  },
  "language_info": {
   "codemirror_mode": {
    "name": "ipython",
    "version": 3
   },
   "file_extension": ".py",
   "mimetype": "text/x-python",
   "name": "python",
   "nbconvert_exporter": "python",
   "pygments_lexer": "ipython3",
   "version": "3.12.3"
  }
 },
 "nbformat": 4,
 "nbformat_minor": 2
}
