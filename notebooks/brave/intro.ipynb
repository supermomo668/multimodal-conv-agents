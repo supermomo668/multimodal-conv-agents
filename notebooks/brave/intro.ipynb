{
 "cells": [
  {
   "cell_type": "code",
   "execution_count": 11,
   "metadata": {},
   "outputs": [
    {
     "name": "stdout",
     "output_type": "stream",
     "text": [
      "/home/mymm_psu_gmail_com/hackathon/rag-agents/multimodal-conv-agents\n"
     ]
    },
    {
     "data": {
      "text/plain": [
       "True"
      ]
     },
     "execution_count": 11,
     "metadata": {},
     "output_type": "execute_result"
    }
   ],
   "source": [
    "import os\n",
    "import click\n",
    "import requests\n",
    "import json \n",
    "import warnings\n",
    "\n",
    "from dotenv import load_dotenv\n",
    "from constants import BRAVE_ENDPOINTS as ENDPOINTS\n",
    "from datetime import datetime \n",
    "\n",
    "os.chdir(\"../../\")\n",
    "print(os.getcwd())"
   ]
  },
  {
   "cell_type": "code",
   "execution_count": 15,
   "metadata": {},
   "outputs": [],
   "source": [
    "# Load environment variables from .env file\n",
    "load_dotenv()\n",
    "\n",
    "# API headers\n",
    "HEADERS = {\n",
    "    \"Accept\": \"application/json\",\n",
    "    \"Accept-Encoding\": \"gzip\",\n",
    "    \"X-Subscription-Token\": os.getenv(\"BRAVE_API_KEY\")\n",
    "}\n",
    "prompt=\"corporate policy in the world that create the most lucrative busiunuess opportunity?\"\n",
    "\n",
    "def search(query=prompt, endpoint=\"news\"):\n",
    "    \"\"\"Perform a search query using the selected Brave Search API endpoint.\"\"\"\n",
    "    api_url = ENDPOINTS[endpoint]['url']\n",
    "    params = {'q': query}\n",
    "    response = requests.get(\n",
    "      api_url, headers=HEADERS, params=params)\n",
    "\n",
    "    # Check if the request was successful\n",
    "    if response.ok:\n",
    "      return response.json()\n",
    "    else:\n",
    "      print(response)\n",
    "      return {}\n",
    "\n",
    "def main(\n",
    "  query=\"Summarize the meeting agenda and conclusions in the latest FOMC meeting?\", \n",
    "  endpoint=['news', 'videos', 'images', 'web'][0]\n",
    "  ):\n",
    "    json_response = search(query, endpoint)\n",
    "    # Ensure the 'assets' folder exists\n",
    "    assets_dir = 'assets'\n",
    "    os.makedirs(assets_dir, exist_ok=True)\n",
    "\n",
    "    # Generate a unique filename based on the endpoint\n",
    "    timestamp = datetime.now().strftime(\"%Y%m%d_%H%M%S\")\n",
    "    filename = f\"search_result_{timestamp}.json\"\n",
    "    filepath = os.path.join(assets_dir, filename)\n",
    "\n",
    "    # Write the JSON response to the file\n",
    "    with open(filepath, 'w') as json_file:\n",
    "        json.dump(json_response, json_file, indent=4)\n",
    "\n",
    "    click.echo(f\"Results saved to {filepath}\")\n"
   ]
  },
  {
   "cell_type": "code",
   "execution_count": 16,
   "metadata": {},
   "outputs": [
    {
     "name": "stdout",
     "output_type": "stream",
     "text": [
      "Results saved to assets/search_result_20240713_184608.json\n"
     ]
    }
   ],
   "source": [
    "main()"
   ]
  }
 ],
 "metadata": {
  "kernelspec": {
   "display_name": "dev",
   "language": "python",
   "name": "python3"
  },
  "language_info": {
   "codemirror_mode": {
    "name": "ipython",
    "version": 3
   },
   "file_extension": ".py",
   "mimetype": "text/x-python",
   "name": "python",
   "nbconvert_exporter": "python",
   "pygments_lexer": "ipython3",
   "version": "3.12.3"
  }
 },
 "nbformat": 4,
 "nbformat_minor": 2
}
